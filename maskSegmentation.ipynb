{
 "cells": [
  {
   "cell_type": "code",
   "execution_count": 13,
   "metadata": {},
   "outputs": [],
   "source": [
    "import os\n",
    "import cv2\n",
    "import numpy as np\n",
    "\n",
    "# Video path\n",
    "video_path = 'data/videos/test0_toy_lecture.mp4'\n",
    "if not os.path.exists(video_path):\n",
    "        print(f\"{video_path}: File not found.\")\n",
    "\n",
    "# Load video\n",
    "cap = cv2.VideoCapture(video_path)\n",
    "sampling_frequency = 1  # seconds between samples\n",
    "\n",
    "# Get video properties\n",
    "fps = cap.get(cv2.CAP_PROP_FPS)\n",
    "ret, frame = cap.read()\n",
    "height, width, channels = frame.shape\n",
    "\n",
    "# frames Numpy array \n",
    "frames = []\n",
    "\n",
    "# Extracting frames, backward (?)\n",
    "count = 0\n",
    "total_frames = cap.get(cv2.CAP_PROP_FRAME_COUNT)\n",
    "frame_index = total_frames\n",
    "while frame_index > 0 :\n",
    "    ret, frame = cap.read()\n",
    "    if not ret:\n",
    "        break  # End of video\n",
    "    frames.append(frame)\n",
    "    \n",
    "    # Decrement frame_index\n",
    "    count += 1\n",
    "    frame_index = total_frames - ((count * fps) / sampling_frequency)\n",
    "    cap.set(cv2.CAP_PROP_POS_FRAMES, int(frame_index))\n",
    "\n",
    "cap.release()\n",
    "\n",
    "# Convert to NumPy array\n",
    "frames_array = np.array(frames)\n",
    "\n",
    "# Assuming white background\n",
    "background_color = [255, 255, 255] \n",
    "\n",
    "# Removing background pixel\n",
    "for frame in frames_array :\n",
    "    for row in range(height) :\n",
    "         for col in range(width) :\n",
    "             if (frame[row][col] == background_color).all() :\n",
    "                  frame[row][col] = [-1, -1, -1] # could add a transparency channel instead of setting to invalid value"
   ]
  }
 ],
 "metadata": {
  "kernelspec": {
   "display_name": "Python 3",
   "language": "python",
   "name": "python3"
  },
  "language_info": {
   "codemirror_mode": {
    "name": "ipython",
    "version": 3
   },
   "file_extension": ".py",
   "mimetype": "text/x-python",
   "name": "python",
   "nbconvert_exporter": "python",
   "pygments_lexer": "ipython3",
   "version": "3.9.6"
  }
 },
 "nbformat": 4,
 "nbformat_minor": 2
}
