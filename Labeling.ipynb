{
 "cells": [
  {
   "cell_type": "code",
   "execution_count": 4,
   "metadata": {},
   "outputs": [
    {
     "name": "stdout",
     "output_type": "stream",
     "text": [
      "Defaulting to user installation because normal site-packages is not writeable\n",
      "Requirement already satisfied: ipywidgets in /Users/ashleyli/Library/Python/3.9/lib/python/site-packages (8.1.5)\n",
      "Requirement already satisfied: comm>=0.1.3 in /Users/ashleyli/Library/Python/3.9/lib/python/site-packages (from ipywidgets) (0.2.2)\n",
      "Requirement already satisfied: widgetsnbextension~=4.0.12 in /Users/ashleyli/Library/Python/3.9/lib/python/site-packages (from ipywidgets) (4.0.13)\n",
      "Requirement already satisfied: ipython>=6.1.0 in /Users/ashleyli/Library/Python/3.9/lib/python/site-packages (from ipywidgets) (8.18.1)\n",
      "Requirement already satisfied: jupyterlab-widgets~=3.0.12 in /Users/ashleyli/Library/Python/3.9/lib/python/site-packages (from ipywidgets) (3.0.13)\n",
      "Requirement already satisfied: traitlets>=4.3.1 in /Users/ashleyli/Library/Python/3.9/lib/python/site-packages (from ipywidgets) (5.14.3)\n",
      "Requirement already satisfied: pygments>=2.4.0 in /Users/ashleyli/Library/Python/3.9/lib/python/site-packages (from ipython>=6.1.0->ipywidgets) (2.18.0)\n",
      "Requirement already satisfied: stack-data in /Users/ashleyli/Library/Python/3.9/lib/python/site-packages (from ipython>=6.1.0->ipywidgets) (0.6.3)\n",
      "Requirement already satisfied: jedi>=0.16 in /Users/ashleyli/Library/Python/3.9/lib/python/site-packages (from ipython>=6.1.0->ipywidgets) (0.19.1)\n",
      "Requirement already satisfied: decorator in /Users/ashleyli/Library/Python/3.9/lib/python/site-packages (from ipython>=6.1.0->ipywidgets) (5.1.1)\n",
      "Requirement already satisfied: typing-extensions in /Users/ashleyli/Library/Python/3.9/lib/python/site-packages (from ipython>=6.1.0->ipywidgets) (4.12.2)\n",
      "Requirement already satisfied: pexpect>4.3 in /Users/ashleyli/Library/Python/3.9/lib/python/site-packages (from ipython>=6.1.0->ipywidgets) (4.9.0)\n",
      "Requirement already satisfied: exceptiongroup in /Users/ashleyli/Library/Python/3.9/lib/python/site-packages (from ipython>=6.1.0->ipywidgets) (1.2.2)\n",
      "Requirement already satisfied: prompt-toolkit<3.1.0,>=3.0.41 in /Users/ashleyli/Library/Python/3.9/lib/python/site-packages (from ipython>=6.1.0->ipywidgets) (3.0.48)\n",
      "Requirement already satisfied: matplotlib-inline in /Users/ashleyli/Library/Python/3.9/lib/python/site-packages (from ipython>=6.1.0->ipywidgets) (0.1.7)\n",
      "Requirement already satisfied: parso<0.9.0,>=0.8.3 in /Users/ashleyli/Library/Python/3.9/lib/python/site-packages (from jedi>=0.16->ipython>=6.1.0->ipywidgets) (0.8.4)\n",
      "Requirement already satisfied: ptyprocess>=0.5 in /Users/ashleyli/Library/Python/3.9/lib/python/site-packages (from pexpect>4.3->ipython>=6.1.0->ipywidgets) (0.7.0)\n",
      "Requirement already satisfied: wcwidth in /Users/ashleyli/Library/Python/3.9/lib/python/site-packages (from prompt-toolkit<3.1.0,>=3.0.41->ipython>=6.1.0->ipywidgets) (0.2.13)\n",
      "Requirement already satisfied: pure-eval in /Users/ashleyli/Library/Python/3.9/lib/python/site-packages (from stack-data->ipython>=6.1.0->ipywidgets) (0.2.3)\n",
      "Requirement already satisfied: asttokens>=2.1.0 in /Users/ashleyli/Library/Python/3.9/lib/python/site-packages (from stack-data->ipython>=6.1.0->ipywidgets) (2.4.1)\n",
      "Requirement already satisfied: executing>=1.2.0 in /Users/ashleyli/Library/Python/3.9/lib/python/site-packages (from stack-data->ipython>=6.1.0->ipywidgets) (2.1.0)\n",
      "Requirement already satisfied: six>=1.12.0 in /Library/Developer/CommandLineTools/Library/Frameworks/Python3.framework/Versions/3.9/lib/python3.9/site-packages (from asttokens>=2.1.0->stack-data->ipython>=6.1.0->ipywidgets) (1.15.0)\n",
      "\u001b[33mWARNING: You are using pip version 21.2.4; however, version 24.3.1 is available.\n",
      "You should consider upgrading via the '/Library/Developer/CommandLineTools/usr/bin/python3 -m pip install --upgrade pip' command.\u001b[0m\n",
      "Note: you may need to restart the kernel to use updated packages.\n"
     ]
    }
   ],
   "source": [
    "pip install ipywidgets"
   ]
  },
  {
   "cell_type": "code",
   "execution_count": 5,
   "metadata": {},
   "outputs": [
    {
     "name": "stdout",
     "output_type": "stream",
     "text": [
      "Defaulting to user installation because normal site-packages is not writeable\n",
      "Requirement already satisfied: pandas in /Users/ashleyli/Library/Python/3.9/lib/python/site-packages (2.2.3)\n",
      "Requirement already satisfied: tzdata>=2022.7 in /Users/ashleyli/Library/Python/3.9/lib/python/site-packages (from pandas) (2024.2)\n",
      "Requirement already satisfied: pytz>=2020.1 in /Users/ashleyli/Library/Python/3.9/lib/python/site-packages (from pandas) (2024.2)\n",
      "Requirement already satisfied: numpy>=1.22.4 in /Users/ashleyli/Library/Python/3.9/lib/python/site-packages (from pandas) (1.26.4)\n",
      "Requirement already satisfied: python-dateutil>=2.8.2 in /Users/ashleyli/Library/Python/3.9/lib/python/site-packages (from pandas) (2.9.0.post0)\n",
      "Requirement already satisfied: six>=1.5 in /Library/Developer/CommandLineTools/Library/Frameworks/Python3.framework/Versions/3.9/lib/python3.9/site-packages (from python-dateutil>=2.8.2->pandas) (1.15.0)\n",
      "\u001b[33mWARNING: You are using pip version 21.2.4; however, version 24.3.1 is available.\n",
      "You should consider upgrading via the '/Library/Developer/CommandLineTools/usr/bin/python3 -m pip install --upgrade pip' command.\u001b[0m\n",
      "Note: you may need to restart the kernel to use updated packages.\n"
     ]
    }
   ],
   "source": [
    "pip install pandas"
   ]
  },
  {
   "cell_type": "code",
   "execution_count": 6,
   "metadata": {},
   "outputs": [
    {
     "name": "stdout",
     "output_type": "stream",
     "text": [
      "End of video\n"
     ]
    },
    {
     "data": {
      "application/vnd.jupyter.widget-view+json": {
       "model_id": "f411c6dc93254ae0bdb9d22d8e83bb9d",
       "version_major": 2,
       "version_minor": 0
      },
      "text/plain": [
       "HBox(children=(Button(description='Scene change', style=ButtonStyle()), Button(description='No scene change', …"
      ]
     },
     "metadata": {},
     "output_type": "display_data"
    },
    {
     "name": "stdout",
     "output_type": "stream",
     "text": [
      "Scene change if the left frame is different from the right frame\n",
      "<- Left image frame: 900\n",
      "-> Right image frame: 925\n",
      "[Scene change] will log ['right image frame number', 'count', True] in csv\n"
     ]
    },
    {
     "data": {
      "application/vnd.jupyter.widget-view+json": {
       "model_id": "a0a49529eca645ce91d8714772ad73af",
       "version_major": 2,
       "version_minor": 0
      },
      "text/plain": [
       "HBox(children=(Image(value=b'\\xff\\xd8\\xff\\xe0\\x00\\x10JFIF\\x00\\x01\\x01\\x00\\x00\\x01\\x00\\x01\\x00\\x00\\xff\\xdb\\x00C…"
      ]
     },
     "metadata": {},
     "output_type": "display_data"
    }
   ],
   "source": [
    "import cv2\n",
    "import csv\n",
    "import ipywidgets as widgets\n",
    "from IPython.display import display, clear_output\n",
    "import pandas as pd\n",
    "from pathlib import Path\n",
    "\n",
    "# Video path and output CSV path\n",
    "video_path = 'data/videos/test0_toy_lecture.mp4'\n",
    "output_csv = 'output/txt/annotations.csv'\n",
    "sampling_frequency = 1  # seconds between samples\n",
    "\n",
    "# Prepare CSV file\n",
    "if not Path(output_csv).exists():\n",
    "    with open(output_csv, 'w', newline='') as file:\n",
    "        writer = csv.writer(file)\n",
    "        writer.writerow(['Frame', 'Count', 'Scene change'])  # Headers: frame number, label count, and label\n",
    "\n",
    "# Load video\n",
    "cap = cv2.VideoCapture(video_path)\n",
    "fps = cap.get(cv2.CAP_PROP_FPS)\n",
    "frame_increment = fps / sampling_frequency\n",
    "\n",
    "# Widgets\n",
    "button_change = widgets.Button(description=\"Scene change\")\n",
    "button_no_change = widgets.Button(description=\"No scene change\")\n",
    "button_undo = widgets.Button(description=\"Undo\")\n",
    "\n",
    "# Initialize frame position to the last frame minus increment\n",
    "total_frames = cap.get(cv2.CAP_PROP_FRAME_COUNT)\n",
    "frame = total_frames - (total_frames % frame_increment)\n",
    "ref_frame = frame\n",
    "count = 0\n",
    " \n",
    "\n",
    "# Define button callback functions\n",
    "def log_and_next(label):\n",
    "    global frame\n",
    "    global count\n",
    "    global frame_increment\n",
    "\n",
    "    # Log the label and frame number\n",
    "    with open(output_csv, 'a', newline='') as file:\n",
    "        writer = csv.writer(file)\n",
    "        writer.writerow([int(frame + frame_increment), count, label])\n",
    "        count += 1\n",
    "\n",
    "    # Save most recent scene change\n",
    "    ref_frame = frame\n",
    "\n",
    "    # Move to next frame\n",
    "    display_buttons()\n",
    "    display_frame()\n",
    "\n",
    "def on_change_button_clicked(b):\n",
    "    log_and_next('True')\n",
    "\n",
    "def on_no_change_button_clicked(b):\n",
    "    log_and_next('False')\n",
    "\n",
    "def on_undo_button_clicked(b):\n",
    "    global frame\n",
    "    global count\n",
    "    global frame_increment\n",
    "\n",
    "    count -= 1\n",
    "    frame += 2 * frame_increment\n",
    "    delete_row_from_csv(count)\n",
    "    display_buttons()\n",
    "    display_frame()\n",
    "\n",
    "def delete_row_from_csv(row_index):\n",
    "    \"\"\"Deletes a row from a CSV file.\n",
    "\n",
    "    Args:\n",
    "        csv_file: The path to the CSV file.\n",
    "        row_index: The index of the row to delete (starting from 0).\n",
    "    \"\"\"\n",
    "\n",
    "    with open(output_csv, 'r') as file:\n",
    "        reader = csv.reader(file)\n",
    "        rows = list(reader)\n",
    "\n",
    "    del rows[row_index]\n",
    "\n",
    "    with open(output_csv, 'w', newline='') as file:\n",
    "        writer = csv.writer(file)\n",
    "        writer.writerows(rows)\n",
    "\n",
    "# Attach event handlers\n",
    "button_change.on_click(on_change_button_clicked)\n",
    "button_no_change.on_click(on_no_change_button_clicked)\n",
    "button_undo.on_click(on_undo_button_clicked)\n",
    "\n",
    "# Display frame\n",
    "def display_frame():\n",
    "    global frame\n",
    "    global count\n",
    "    global frame_increment\n",
    "\n",
    "    # Set current frame\n",
    "    frame -= frame_increment  # Decrement frame by frame_increment\n",
    "    # Check for end of video\n",
    "    if frame < 0:\n",
    "        # Log the label and frame number\n",
    "        with open(output_csv, 'a', newline='') as file:\n",
    "            writer = csv.writer(file)\n",
    "            writer.writerow([int(frame + frame_increment), count, 'True'])\n",
    "        print(\"Beginning of Video\")\n",
    "        cap.release()\n",
    "        return\n",
    "    cap.set(cv2.CAP_PROP_POS_FRAMES, int(frame))\n",
    "    ret_current, current_frame_image = cap.read()\n",
    "    if not ret_current:\n",
    "        print(\"Failed to load current frame\")\n",
    "        return\n",
    "    \n",
    "    # Set last frame\n",
    "    cap.set(cv2.CAP_PROP_POS_FRAMES, int(frame + frame_increment))\n",
    "    ret_last, last_frame_image = cap.read()\n",
    "    if not ret_last:\n",
    "        print(\"Failed to load previous frame\")\n",
    "        return\n",
    "\n",
    "    # Display frames using ipywidgets.Image\n",
    "    print(\"Scene change if the left frame is different from the right frame\")\n",
    "    print(\"<- Left image frame: \" + str(int(frame)))\n",
    "    current_frame_widget = widgets.Image(\n",
    "        value=cv2.imencode('.jpg', current_frame_image)[1].tobytes(),\n",
    "        format='jpg',\n",
    "        width='45%',\n",
    "        height='45%'\n",
    "    )\n",
    "    prev_frame = frame + frame_increment\n",
    "    print(\"-> Right image frame: \" + str(int(prev_frame)))\n",
    "    last_frame_widget = widgets.Image(\n",
    "        value=cv2.imencode('.jpg', last_frame_image)[1].tobytes(),\n",
    "        format='jpg',\n",
    "        width='45%',\n",
    "        height='45%'\n",
    "    )\n",
    "    print(\"[Scene change] will log ['right image frame number', 'count', True] in csv\")\n",
    "    display(widgets.HBox([current_frame_widget, last_frame_widget]))\n",
    "\n",
    "# Display buttons\n",
    "def display_buttons():\n",
    "    clear_output(wait=True) \n",
    "\n",
    "    if (count == 0):\n",
    "        print(\"End of video\")\n",
    "\n",
    "    display(widgets.HBox([button_change, button_no_change, button_undo]))\n",
    "\n",
    "# Start the frame display\n",
    "display_buttons()\n",
    "display_frame()"
   ]
  }
 ],
 "metadata": {
  "kernelspec": {
   "display_name": "Python 3",
   "language": "python",
   "name": "python3"
  },
  "language_info": {
   "codemirror_mode": {
    "name": "ipython",
    "version": 3
   },
   "file_extension": ".py",
   "mimetype": "text/x-python",
   "name": "python",
   "nbconvert_exporter": "python",
   "pygments_lexer": "ipython3",
   "version": "3.9.6"
  }
 },
 "nbformat": 4,
 "nbformat_minor": 2
}
