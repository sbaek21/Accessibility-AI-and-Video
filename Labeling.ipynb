{
 "cells": [
  {
   "cell_type": "code",
   "execution_count": null,
   "metadata": {},
   "outputs": [],
   "source": [
    "pip install ipywidgets"
   ]
  },
  {
   "cell_type": "code",
   "execution_count": null,
   "metadata": {},
   "outputs": [],
   "source": [
    "pip install pandas"
   ]
  },
  {
   "cell_type": "code",
   "execution_count": null,
   "metadata": {},
   "outputs": [],
   "source": []
  },
  {
   "cell_type": "code",
   "execution_count": 7,
   "metadata": {},
   "outputs": [
    {
     "data": {
      "application/vnd.jupyter.widget-view+json": {
       "model_id": "4e3bffb9724f49e68f1e93d544045386",
       "version_major": 2,
       "version_minor": 0
      },
      "text/plain": [
       "HBox(children=(Button(description='Scene change', style=ButtonStyle()), Button(description='No scene change', …"
      ]
     },
     "metadata": {},
     "output_type": "display_data"
    },
    {
     "name": "stdout",
     "output_type": "stream",
     "text": [
      "Scene change if the top frame is different from the bottom frame\n",
      "Top image frame: 800\n",
      "Bottom image frame: 825\n"
     ]
    },
    {
     "data": {
      "application/vnd.jupyter.widget-view+json": {
       "model_id": "4a837036bbc74a4fb89d25fc47665962",
       "version_major": 2,
       "version_minor": 0
      },
      "text/plain": [
       "Image(value=b'\\xff\\xd8\\xff\\xe0\\x00\\x10JFIF\\x00\\x01\\x01\\x00\\x00\\x01\\x00\\x01\\x00\\x00\\xff\\xdb\\x00C\\x00\\x02\\x01\\x0…"
      ]
     },
     "metadata": {},
     "output_type": "display_data"
    },
    {
     "data": {
      "application/vnd.jupyter.widget-view+json": {
       "model_id": "a5f70dca812d487483885815f0b764d5",
       "version_major": 2,
       "version_minor": 0
      },
      "text/plain": [
       "Image(value=b'\\xff\\xd8\\xff\\xe0\\x00\\x10JFIF\\x00\\x01\\x01\\x00\\x00\\x01\\x00\\x01\\x00\\x00\\xff\\xdb\\x00C\\x00\\x02\\x01\\x0…"
      ]
     },
     "metadata": {},
     "output_type": "display_data"
    }
   ],
   "source": [
    "import cv2\n",
    "import csv\n",
    "import ipywidgets as widgets\n",
    "from IPython.display import display, clear_output\n",
    "import pandas as pd\n",
    "from pathlib import Path\n",
    "\n",
    "# Video path and output CSV path\n",
    "video_path = 'data/videos/test0_toy_lecture.mp4'\n",
    "output_csv = 'annotations.csv'\n",
    "sampling_frequency = 1  # seconds between samples\n",
    "\n",
    "# Prepare CSV file\n",
    "if not Path(output_csv).exists():\n",
    "    with open(output_csv, 'w', newline='') as file:\n",
    "        writer = csv.writer(file)\n",
    "        writer.writerow(['Frame', 'Count', 'Scene change'])  # Headers: frame number and label\n",
    "\n",
    "# Load video\n",
    "cap = cv2.VideoCapture(video_path)\n",
    "fps = int(cap.get(cv2.CAP_PROP_FPS))\n",
    "frame_increment = int(fps * sampling_frequency)\n",
    "\n",
    "# Widgets\n",
    "button_change = widgets.Button(description=\"Scene change\")\n",
    "button_no_change = widgets.Button(description=\"No scene change\")\n",
    "\n",
    "# Initialize frame position to the last frame minus increment\n",
    "total_frames = cap.get(cv2.CAP_PROP_FRAME_COUNT)\n",
    "frame = int(total_frames - (total_frames % fps) - frame_increment)\n",
    "count = 0\n",
    " \n",
    "\n",
    "# Define button callback functions\n",
    "def log_and_next(label):\n",
    "    global frame\n",
    "    global count\n",
    "    # Log the label and frame number\n",
    "    with open(output_csv, 'a', newline='') as file:\n",
    "        writer = csv.writer(file)\n",
    "        writer.writerow([frame, count, label])\n",
    "        count += 1\n",
    "\n",
    "    # Move to next frame\n",
    "    display_buttons()\n",
    "    display_frame()\n",
    "\n",
    "def on_change_button_clicked(b):\n",
    "    log_and_next('True')\n",
    "\n",
    "def on_no_change_button_clicked(b):\n",
    "    log_and_next('False')\n",
    "\n",
    "# Attach event handlers\n",
    "button_change.on_click(on_change_button_clicked)\n",
    "button_no_change.on_click(on_no_change_button_clicked)\n",
    "\n",
    "# Display frame\n",
    "def display_frame():\n",
    "    global frame\n",
    "\n",
    "    # Check for end of video\n",
    "    if frame < 0:\n",
    "        print(\"End of Video\")\n",
    "        cap.release()\n",
    "        return\n",
    "\n",
    "    # Set current frame\n",
    "    frame -= frame_increment  # Decrement frame by frame_increment\n",
    "    cap.set(cv2.CAP_PROP_POS_FRAMES, frame)\n",
    "    ret_current, current_frame_image = cap.read()\n",
    "    if not ret_current:\n",
    "        print(\"Failed to load current frame\")\n",
    "        return\n",
    "    \n",
    "    # Set last frame\n",
    "    cap.set(cv2.CAP_PROP_POS_FRAMES, frame + frame_increment)\n",
    "    ret_last, last_frame_image = cap.read()\n",
    "    if not ret_last:\n",
    "        print(\"Failed to load last frame\")\n",
    "        return\n",
    "\n",
    "    # Convert frames to RGB for display\n",
    "    current_frame_rgb = cv2.cvtColor(current_frame_image, cv2.COLOR_BGR2RGB)\n",
    "    last_frame_rgb = cv2.cvtColor(last_frame_image, cv2.COLOR_BGR2RGB)\n",
    "\n",
    "    # Display frames using ipywidgets.Image\n",
    "    print(\"Scene change if the top frame is different from the bottom frame\")\n",
    "    print(\"Top image frame: \" + str(frame))\n",
    "    current_frame_widget = widgets.Image(\n",
    "        value=cv2.imencode('.jpg', current_frame_rgb)[1].tobytes(),\n",
    "        format='jpg',\n",
    "        width='45%',\n",
    "        height='45%',\n",
    "        min_width = '300px'\n",
    "    )\n",
    "    prev_frame = frame + frame_increment\n",
    "    print(\"Bottom image frame: \" + str(prev_frame))\n",
    "    last_frame_widget = widgets.Image(\n",
    "        value=cv2.imencode('.jpg', last_frame_rgb)[1].tobytes(),\n",
    "        format='jpg',\n",
    "        width='45%',\n",
    "        height='45%',\n",
    "    )\n",
    "\n",
    "    display(current_frame_widget, last_frame_widget)\n",
    "\n",
    "# Display buttons\n",
    "def display_buttons():\n",
    "    clear_output(wait=True)\n",
    "    display(widgets.HBox([button_change, button_no_change]))\n",
    "\n",
    "# Start the frame display\n",
    "display_buttons()\n",
    "display_frame()"
   ]
  }
 ],
 "metadata": {
  "kernelspec": {
   "display_name": "Python 3",
   "language": "python",
   "name": "python3"
  },
  "language_info": {
   "codemirror_mode": {
    "name": "ipython",
    "version": 3
   },
   "file_extension": ".py",
   "mimetype": "text/x-python",
   "name": "python",
   "nbconvert_exporter": "python",
   "pygments_lexer": "ipython3",
   "version": "3.9.6"
  }
 },
 "nbformat": 4,
 "nbformat_minor": 2
}
