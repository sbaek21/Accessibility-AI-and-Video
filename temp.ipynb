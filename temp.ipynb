{
 "cells": [
  {
   "cell_type": "code",
   "execution_count": 10,
   "metadata": {},
   "outputs": [
    {
     "name": "stdout",
     "output_type": "stream",
     "text": [
      "Hour: 18\n",
      "Minute: 18\n",
      "Second: 20\n",
      "Fractional Second: 0.755501\n"
     ]
    }
   ],
   "source": [
    "from time import localtime, process_time\n",
    "# from datetime import strftime\n",
    "from datetime import datetime\n",
    "\n",
    "# Get current time\n",
    "now = datetime.now()\n",
    "\n",
    "# Print current hour, minute, second, and fractional second\n",
    "print(f\"Hour: {now.hour}\")\n",
    "print(f\"Minute: {now.minute}\")\n",
    "print(f\"Second: {now.second}\")\n",
    "print(f\"Fractional Second: {now.microsecond / 1_000_000}\")"
   ]
  }
 ],
 "metadata": {
  "kernelspec": {
   "display_name": "Python 3",
   "language": "python",
   "name": "python3"
  },
  "language_info": {
   "codemirror_mode": {
    "name": "ipython",
    "version": 3
   },
   "file_extension": ".py",
   "mimetype": "text/x-python",
   "name": "python",
   "nbconvert_exporter": "python",
   "pygments_lexer": "ipython3",
   "version": "3.9.6"
  }
 },
 "nbformat": 4,
 "nbformat_minor": 2
}
